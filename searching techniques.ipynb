{
 "cells": [
  {
   "cell_type": "code",
   "execution_count": 22,
   "metadata": {},
   "outputs": [
    {
     "name": "stdout",
     "output_type": "stream",
     "text": [
      "enter array size:4\n",
      "enter the 0 element3\n",
      "enter the 1 element4\n",
      "enter the 2 element5\n",
      "enter the 3 element2\n",
      "3 4 5 2 enter the element to search:1\n",
      "element not found\n"
     ]
    }
   ],
   "source": [
    "#linear search\n",
    "n = int(input(\"enter array size:\"))\n",
    "arr=[]\n",
    "for i in range(0,n):\n",
    "    val= int(input(\"enter the \" +str(i)+ \" element\"))\n",
    "    arr.append(val)\n",
    "for i in arr:\n",
    "    print(i, end=\" \")\n",
    "ele = int(input(\"enter the element to search:\"))\n",
    "flag=0\n",
    "for i in range(n):\n",
    "    if(ele == arr[i]):\n",
    "        print(\"element found at position \",i)\n",
    "        flag=1\n",
    "if(flag==0):\n",
    "    print(\"element not found\")\n",
    "\n",
    "\n"
   ]
  },
  {
   "cell_type": "markdown",
   "metadata": {},
   "source": []
  },
  {
   "cell_type": "code",
   "execution_count": 23,
   "metadata": {},
   "outputs": [
    {
     "name": "stdout",
     "output_type": "stream",
     "text": [
      "enter array size:5\n",
      "enter the 0 element4\n",
      "enter the 1 element3\n",
      "enter the 2 element2\n",
      "enter the 3 element1\n",
      "enter the 4 element2\n",
      "4 3 2 1 2 enter the element to search:2\n",
      "element found at position2\n"
     ]
    }
   ],
   "source": [
    "#binary search\n",
    "def binary_search(arr , high,  low , ele):\n",
    "    while low <= high:\n",
    "        mid = low+(high-low)//2\n",
    "        if(ele== arr[mid]):\n",
    "            return mid\n",
    "        elif(ele < arr[mid]):\n",
    "            low = mid +1\n",
    "        else:\n",
    "            high = mid - 1\n",
    "    return -1\n",
    "\n",
    "\n",
    "n = int(input(\"enter array size:\"))\n",
    "arr=[]\n",
    "for i in range(0,n):\n",
    "    val= int(input(\"enter the \" +str(i)+ \" element\"))\n",
    "    arr.append(val)\n",
    "for i in arr:\n",
    "    print(i, end=\" \")\n",
    "ele = int(input(\"enter the element to search:\"))\n",
    "low =0\n",
    "high = n\n",
    "res = binary_search(arr, high , low, ele)\n",
    "\n",
    "if res!=-1:\n",
    "    print(\"element found at position\" + str(res))\n",
    "else:\n",
    "    print(\"element not found\")\n",
    "\n"
   ]
  },
  {
   "cell_type": "code",
   "execution_count": 20,
   "metadata": {},
   "outputs": [
    {
     "name": "stdout",
     "output_type": "stream",
     "text": [
      "enter array size:3\n",
      "enter the 0 element1\n",
      "enter the 1 element4\n",
      "enter the 2 element2\n",
      "1 4 2 \n",
      "count is : 0\n"
     ]
    }
   ],
   "source": [
    "# problem 1\n",
    "n = int(input(\"enter array size:\"))\n",
    "#arr = [1,1,2,2,3,4,5,6]\n",
    "count=0\n",
    "arr=[]\n",
    "for i in range(0,n):\n",
    "    val= int(input(\"enter the \" +str(i)+ \" element\"))\n",
    "    arr.append(val)\n",
    "for i in arr:\n",
    "    print(i, end=\" \")\n",
    "    \n",
    "#counting the values\n",
    "flag = 0\n",
    "for i in range(len(arr)):\n",
    "    for j in range(i+1,len(arr)):\n",
    "        if(arr[i]==arr[j]):\n",
    "            flag=1\n",
    "            count+=1\n",
    "        \n",
    "print(\"\\ncount is :\",count)"
   ]
  },
  {
   "cell_type": "code",
   "execution_count": 13,
   "metadata": {},
   "outputs": [
    {
     "name": "stdout",
     "output_type": "stream",
     "text": [
      "enter the k value:13\n",
      "6 7 "
     ]
    }
   ],
   "source": [
    "# problem 2 (2 numbers sum)\n",
    "\n",
    "arr = [1,2,3,4,5,6,7]\n",
    "k= int(input(\"enter the k value:\"))\n",
    "f=0\n",
    "for i in range(0,len(arr)):\n",
    "    for j in range(i+1 , len(arr)):\n",
    "        if(arr[i]+arr[j] == k):\n",
    "            f=1\n",
    "            print(arr[i] , end=\" \" )\n",
    "            print( arr[j], end=\" \")\n",
    "    \n",
    "if(f==0):\n",
    "    print(\"no sum is found\")\n"
   ]
  },
  {
   "cell_type": "code",
   "execution_count": null,
   "metadata": {},
   "outputs": [],
   "source": []
  }
 ],
 "metadata": {
  "kernelspec": {
   "display_name": "Python 3",
   "language": "python",
   "name": "python3"
  }
 },
 "nbformat": 4,
 "nbformat_minor": 4
}
